{
 "cells": [
  {
   "cell_type": "code",
   "execution_count": 2,
   "id": "f4ac8583",
   "metadata": {},
   "outputs": [
    {
     "name": "stdout",
     "output_type": "stream",
     "text": [
      "Akash\n",
      "10\n"
     ]
    }
   ],
   "source": [
    "#Implement the Complete Student Class\n",
    "\n",
    "\n",
    "class Student:\n",
    "    student_name=\"y\"\n",
    "    def __init__(self,Name=0,Roll=0):\n",
    "        self.__name=Name\n",
    "        self.__roll=Roll\n",
    "\n",
    " #Getter Method\n",
    "    def get_name(self):\n",
    "        return self.__name\n",
    "\n",
    " #Setter Method\n",
    "    def set_name(self,x):\n",
    "        self.__name=x\n",
    "        \n",
    " #Getter Method      \n",
    "    def get_roll(self):\n",
    "        return self.__roll\n",
    "    \n",
    "  #Setter Method  \n",
    "    def set_roll(self,x):\n",
    "        self.__roll=x\n",
    "\n",
    "y=Student()\n",
    "y.set_name(\"Akash\")\n",
    "print(y.get_name())\n",
    "y.set_roll(10)\n",
    "print(y.get_roll())"
   ]
  },
  {
   "cell_type": "code",
   "execution_count": null,
   "id": "b5b054e6",
   "metadata": {},
   "outputs": [],
   "source": []
  }
 ],
 "metadata": {
  "kernelspec": {
   "display_name": "Python 3 (ipykernel)",
   "language": "python",
   "name": "python3"
  },
  "language_info": {
   "codemirror_mode": {
    "name": "ipython",
    "version": 3
   },
   "file_extension": ".py",
   "mimetype": "text/x-python",
   "name": "python",
   "nbconvert_exporter": "python",
   "pygments_lexer": "ipython3",
   "version": "3.9.12"
  }
 },
 "nbformat": 4,
 "nbformat_minor": 5
}
